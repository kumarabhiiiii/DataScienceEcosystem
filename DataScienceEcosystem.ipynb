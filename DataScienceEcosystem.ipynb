{
  "metadata": {
    "language_info": {
      "codemirror_mode": {
        "name": "python",
        "version": 3
      },
      "file_extension": ".py",
      "mimetype": "text/x-python",
      "name": "python",
      "nbconvert_exporter": "python",
      "pygments_lexer": "ipython3",
      "version": "3.8"
    },
    "kernelspec": {
      "name": "python",
      "display_name": "Python (Pyodide)",
      "language": "python"
    }
  },
  "nbformat_minor": 4,
  "nbformat": 4,
  "cells": [
    {
      "cell_type": "code",
      "source": "#Exercise 2: Create markdown cell with title of the notebook (Data Science Tools and Ecosystem)",
      "metadata": {},
      "execution_count": null,
      "outputs": []
    },
    {
      "cell_type": "markdown",
      "source": "# Data Science Tools and Ecosystem #",
      "metadata": {}
    },
    {
      "cell_type": "code",
      "source": "#Exercise 3 - Create a markdown cell for an introduction",
      "metadata": {},
      "execution_count": null,
      "outputs": []
    },
    {
      "cell_type": "markdown",
      "source": "## In this notebook, Data Science Tools and Ecosystem are summarized. ##",
      "metadata": {}
    },
    {
      "cell_type": "code",
      "source": "#Exercise 10 - Insert a markdown cell to list Objectives",
      "metadata": {},
      "execution_count": null,
      "outputs": []
    },
    {
      "cell_type": "markdown",
      "source": "**Objectives:**\n* Create a jupyter notebook \n* Insert code and markdown cells \n* List popular languages for Data Science\n* List commonly used libraries used in Data Science \n* List development environment open source tools used in Data Science\n* Evaluating arithmetic expressions \n* Share your notebook through GitHUb ",
      "metadata": {}
    },
    {
      "cell_type": "code",
      "source": "#Exercise 4 - Create a markdown cell to list data science languages",
      "metadata": {},
      "execution_count": null,
      "outputs": []
    },
    {
      "cell_type": "markdown",
      "source": "#### Some of the popular languages that Data Scientists use are: ####",
      "metadata": {}
    },
    {
      "cell_type": "markdown",
      "source": "1. Python  ",
      "metadata": {}
    },
    {
      "cell_type": "markdown",
      "source": "2. SQL ",
      "metadata": {}
    },
    {
      "cell_type": "markdown",
      "source": "3. R Language ",
      "metadata": {}
    },
    {
      "cell_type": "code",
      "source": "#Exercise 5 - Create a markdown cell to list data science libraries",
      "metadata": {
        "trusted": true
      },
      "execution_count": 4,
      "outputs": []
    },
    {
      "cell_type": "markdown",
      "source": "#### Some of the commonly used libraries used by Data Scientists include: ####",
      "metadata": {}
    },
    {
      "cell_type": "markdown",
      "source": "1. Pandas ",
      "metadata": {}
    },
    {
      "cell_type": "markdown",
      "source": "2. Matplotlib",
      "metadata": {}
    },
    {
      "cell_type": "markdown",
      "source": "3. Scikit-learn",
      "metadata": {}
    },
    {
      "cell_type": "code",
      "source": "#Exercise 6 - Create a markdown cell with a table of Data Science tools",
      "metadata": {},
      "execution_count": null,
      "outputs": []
    },
    {
      "cell_type": "markdown",
      "source": " Data Science Tools           \n-----------------------------------------------------------\nJupyter Notebooks \n\nVisual Studio Code / VS Code\n\nAnaconda",
      "metadata": {}
    },
    {
      "cell_type": "code",
      "source": "#Exercise 7 - Create a markdown cell introducing arithmetic expression examples",
      "metadata": {
        "trusted": true
      },
      "execution_count": 6,
      "outputs": []
    },
    {
      "cell_type": "markdown",
      "source": "### Below are a few examples of evaluating arithmetic expressions in Python ###",
      "metadata": {}
    },
    {
      "cell_type": "code",
      "source": "#Exercise 8 - Create a code cell to multiply and add numbers",
      "metadata": {},
      "execution_count": null,
      "outputs": []
    },
    {
      "cell_type": "code",
      "source": "#This a simple arithmetic expression to mutiply then add integers",
      "metadata": {},
      "execution_count": null,
      "outputs": []
    },
    {
      "cell_type": "code",
      "source": "(3*4)+5",
      "metadata": {
        "trusted": true
      },
      "execution_count": 7,
      "outputs": [
        {
          "execution_count": 7,
          "output_type": "execute_result",
          "data": {
            "text/plain": "17"
          },
          "metadata": {}
        }
      ]
    },
    {
      "cell_type": "code",
      "source": "#Exercise 9 - Create a code cell to convert minutes to hours",
      "metadata": {},
      "execution_count": null,
      "outputs": []
    },
    {
      "cell_type": "code",
      "source": "#This will convert 200 minutes to hours by diving by 60",
      "metadata": {},
      "execution_count": null,
      "outputs": []
    },
    {
      "cell_type": "code",
      "source": "200/60",
      "metadata": {
        "trusted": true
      },
      "execution_count": 16,
      "outputs": [
        {
          "execution_count": 16,
          "output_type": "execute_result",
          "data": {
            "text/plain": "3.3333333333333335"
          },
          "metadata": {}
        }
      ]
    },
    {
      "cell_type": "code",
      "source": "#Exercise 11 - Create a markdown cell to indicate the Author's name",
      "metadata": {},
      "execution_count": null,
      "outputs": []
    },
    {
      "cell_type": "markdown",
      "source": "## Author ##",
      "metadata": {}
    },
    {
      "cell_type": "markdown",
      "source": "Abhinav Kumar",
      "metadata": {}
    },
    {
      "cell_type": "code",
      "source": "",
      "metadata": {},
      "execution_count": null,
      "outputs": []
    }
  ]
}